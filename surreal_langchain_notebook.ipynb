{
 "cells": [
  {
   "cell_type": "markdown",
   "id": "7cbe10a0-ccca-4f83-b433-69780624c138",
   "metadata": {},
   "source": [
    "# SurrealDB Vector Store for LangChain"
   ]
  },
  {
   "cell_type": "markdown",
   "id": "b18cbb71-6457-48c9-bbc2-dbabbf259d3c",
   "metadata": {},
   "source": [
    "## Install python dependencies"
   ]
  },
  {
   "cell_type": "code",
   "execution_count": 1,
   "id": "3cbf3243-97c0-4511-b96b-ca0940dcbf26",
   "metadata": {},
   "outputs": [],
   "source": [
    "#!pip install -r requirements.txt"
   ]
  },
  {
   "cell_type": "markdown",
   "id": "ae263c7f-346a-4406-bea5-d20981766fca",
   "metadata": {},
   "source": [
    "## Start SurrealDB in a container"
   ]
  },
  {
   "cell_type": "code",
   "execution_count": 2,
   "id": "ac488d8a-ff67-4c65-a927-2156fb32a03d",
   "metadata": {},
   "outputs": [],
   "source": [
    "#!docker compose up -d"
   ]
  },
  {
   "cell_type": "markdown",
   "id": "1947493c-2ffc-49fe-a4f8-db4d6036b4bf",
   "metadata": {},
   "source": [
    "## Import packages"
   ]
  },
  {
   "cell_type": "code",
   "execution_count": 1,
   "id": "afe1d055-d475-42d8-a10f-6a4b77507dcb",
   "metadata": {},
   "outputs": [
    {
     "name": "stderr",
     "output_type": "stream",
     "text": [
      "/Users/karim/Projects/surrealdb-langchain/venv/lib/python3.10/site-packages/tqdm/auto.py:21: TqdmWarning: IProgress not found. Please update jupyter and ipywidgets. See https://ipywidgets.readthedocs.io/en/stable/user_install.html\n",
      "  from .autonotebook import tqdm as notebook_tqdm\n"
     ]
    }
   ],
   "source": [
    "from surrealdb import Surreal\n",
    "from surreal_langchain import SurrealDBStore\n",
    "from langchain.embeddings import HuggingFaceEmbeddings"
   ]
  },
  {
   "cell_type": "markdown",
   "id": "bb934b78-19bb-46a2-b54b-e716e4a4f20e",
   "metadata": {},
   "source": [
    "## Some sample sentences to test with"
   ]
  },
  {
   "cell_type": "code",
   "execution_count": 30,
   "id": "48e9df9a-d74c-4e88-a76f-3b0b3a4e9bd0",
   "metadata": {
    "tags": []
   },
   "outputs": [],
   "source": [
    "sentences = [\n",
    "    \"LangChain is a framework designed to simplify the creation of applications using large language models (LLMs).\", \n",
    "    \"As a language model integration framework, LangChain's use-cases largely overlap with those of language models in general, including document analysis and summarization, chatbots, and code analysis.\",\n",
    "    \"LangChain was launched in October 2022 as an open source project by Harrison Chase, while working at machine learning startup Robust Intelligence.\", \n",
    "    \"The project quickly garnered popularity, with improvements from hundreds of contributors on GitHub, trending discussions on Twitter, lively activity on the project's Discord server, many YouTube tutorials, and meetups in San Francisco and London.\", \n",
    "    \"In April 2023, LangChain had incorporated and the new startup raised over $20 million in funding at a valuation of at least $200 million from venture firm Sequoia Capital, a week after announcing a $10 million seed investment from Benchmark.\",\n",
    "    \"In October 2023 LangChain introduced LangServe, a deployment tool designed to facilitate the transition from LCEL (LangChain Expression Language) prototypes to production-ready applications.\",\n",
    "]"
   ]
  },
  {
   "cell_type": "markdown",
   "id": "c7fe66e3-13a4-40b6-ad58-319d49693125",
   "metadata": {},
   "source": [
    "## Helper method to delete existing documents to start fresh"
   ]
  },
  {
   "cell_type": "code",
   "execution_count": 21,
   "id": "6342f05c-cd2b-48df-9a76-93a3f0c24bb1",
   "metadata": {
    "tags": []
   },
   "outputs": [],
   "source": [
    "async def delete_docs():\n",
    "    async with Surreal(\"ws://localhost:8000/rpc\") as db:\n",
    "        await db.signin({\"user\": \"root\", \"pass\": \"root\"})\n",
    "        await db.use(\"langchain\", \"database\")\n",
    "        await db.delete(\"documents\")"
   ]
  },
  {
   "cell_type": "code",
   "execution_count": 27,
   "id": "8f51d368-7989-4c6b-b843-6e36e9fe9b04",
   "metadata": {},
   "outputs": [],
   "source": [
    "# await delete_docs()"
   ]
  },
  {
   "cell_type": "markdown",
   "id": "2a3b0ce5-3e6d-46f0-85dd-56a7721102d5",
   "metadata": {},
   "source": [
    "## Initialize SurrealDBStore\n",
    "\n",
    "There are 2 ways to initialize the SurrealDBStore:\n",
    "1. Create the SurrealDBStore object and call the initialize method"
   ]
  },
  {
   "cell_type": "code",
   "execution_count": 26,
   "id": "d7a3bf9f-dbcf-4e85-9b7d-ad3ffdd2f231",
   "metadata": {
    "tags": []
   },
   "outputs": [],
   "source": [
    "sdb = SurrealDBStore(dburl=\"http://localhost:8000/rpc\",k=10,db_user=\"root\",db_pass=\"root\")\n",
    "await sdb.initialize()"
   ]
  },
  {
   "cell_type": "markdown",
   "id": "2a287a14-09a8-469c-af52-b25679fc9605",
   "metadata": {},
   "source": [
    "2. Load documents and return the pre-initialized SurrealDBStore object"
   ]
  },
  {
   "cell_type": "code",
   "execution_count": 31,
   "id": "1d5fcfa3-ffa9-45f3-80d1-cf8871ff1b90",
   "metadata": {
    "tags": []
   },
   "outputs": [],
   "source": [
    "sdb = await SurrealDBStore.afrom_texts(dburl=\"http://localhost:8000/rpc\",texts=sentences,db_user=\"root\",db_pass=\"root\")"
   ]
  },
  {
   "cell_type": "markdown",
   "id": "813fe3c1-7a67-4a32-a625-3107d90b2f08",
   "metadata": {},
   "source": [
    "## Similarity Search with query"
   ]
  },
  {
   "cell_type": "code",
   "execution_count": 32,
   "id": "8910959a-5141-44e6-aec3-b0a6b3eca62a",
   "metadata": {
    "tags": []
   },
   "outputs": [
    {
     "data": {
      "text/plain": [
       "[Document(page_content='LangChain was launched in October 2022 as an open source project by Harrison Chase, while working at machine learning startup Robust Intelligence.', metadata={'id': 'documents:7on84nix6uv2n2nfbkne'}),\n",
       " Document(page_content='In October 2023 LangChain introduced LangServe, a deployment tool designed to facilitate the transition from LCEL (LangChain Expression Language) prototypes to production-ready applications.', metadata={'id': 'documents:2pfz07l2awlutdvpa7bp'}),\n",
       " Document(page_content='LangChain is a framework designed to simplify the creation of applications using large language models (LLMs).', metadata={'id': 'documents:p7u7s5305g3jli009g73'}),\n",
       " Document(page_content=\"As a language model integration framework, LangChain's use-cases largely overlap with those of language models in general, including document analysis and summarization, chatbots, and code analysis.\", metadata={'id': 'documents:riv3aeiemtthl3cohgk3'})]"
      ]
     },
     "execution_count": 32,
     "metadata": {},
     "output_type": "execute_result"
    }
   ],
   "source": [
    "await sdb.asimilarity_search(\"What is Langchain?\")"
   ]
  },
  {
   "cell_type": "markdown",
   "id": "0b5322d8-a4ad-4747-af3c-afdc03adcfcd",
   "metadata": {},
   "source": [
    "## Similarity search with embeddings of the query \n",
    "\n",
    "You can limit the results by providing a value for `k`(default: `4`)."
   ]
  },
  {
   "cell_type": "code",
   "execution_count": 5,
   "id": "30c03da6-2bfc-4572-b219-cfa5902e4648",
   "metadata": {},
   "outputs": [
    {
     "data": {
      "text/plain": [
       "[Document(page_content='LangChain was launched in October 2022 as an open source project by Harrison Chase, while working at machine learning startup Robust Intelligence.', metadata={'id': 'documents:l4oza7p9rvv9v68o0ap4'}),\n",
       " Document(page_content='In October 2023 LangChain introduced LangServe, a deployment tool designed to facilitate the transition from LCEL (LangChain Expression Language) prototypes to production-ready applications.', metadata={'id': 'documents:6bnpp6db3hlq98j21sbi'}),\n",
       " Document(page_content='LangChain is a framework designed to simplify the creation of applications using large language models (LLMs).', metadata={'id': 'documents:6yeintfk2zn7rk7dnk3w'}),\n",
       " Document(page_content=\"As a language model integration framework, LangChain's use-cases largely overlap with those of language models in general, including document analysis and summarization, chatbots, and code analysis.\", metadata={'id': 'documents:70kd6k5pemouv9w6uj5s'})]"
      ]
     },
     "execution_count": 5,
     "metadata": {},
     "output_type": "execute_result"
    }
   ],
   "source": [
    "embeddings = HuggingFaceEmbeddings().embed_query(\"What is Langchain?\")\n",
    "await sdb.asimilarity_search_by_vector(embeddings,k=4)"
   ]
  },
  {
   "cell_type": "markdown",
   "id": "bc15c0dd-12a6-4eb3-ba62-ceead3830653",
   "metadata": {},
   "source": [
    "## Similarity search that returns distances along with the documents\n",
    "\n",
    "You can specify a `score_threshold` to only return the documents with scores equal to or higher than the threshold"
   ]
  },
  {
   "cell_type": "code",
   "execution_count": 8,
   "id": "209a48d4-59dc-4606-bd89-04d3e82d2fb3",
   "metadata": {},
   "outputs": [
    {
     "data": {
      "text/plain": [
       "[(Document(page_content='LangChain was launched in October 2022 as an open source project by Harrison Chase, while working at machine learning startup Robust Intelligence.', metadata={'id': 'documents:l4oza7p9rvv9v68o0ap4'}),\n",
       "  0.707384991228603),\n",
       " (Document(page_content='In October 2023 LangChain introduced LangServe, a deployment tool designed to facilitate the transition from LCEL (LangChain Expression Language) prototypes to production-ready applications.', metadata={'id': 'documents:6bnpp6db3hlq98j21sbi'}),\n",
       "  0.680691705615241),\n",
       " (Document(page_content='LangChain is a framework designed to simplify the creation of applications using large language models (LLMs).', metadata={'id': 'documents:6yeintfk2zn7rk7dnk3w'}),\n",
       "  0.6542964797390185),\n",
       " (Document(page_content=\"As a language model integration framework, LangChain's use-cases largely overlap with those of language models in general, including document analysis and summarization, chatbots, and code analysis.\", metadata={'id': 'documents:70kd6k5pemouv9w6uj5s'}),\n",
       "  0.609428197794045)]"
      ]
     },
     "execution_count": 8,
     "metadata": {},
     "output_type": "execute_result"
    }
   ],
   "source": [
    "await sdb.asimilarity_search_with_score(\"What is Langchain?\",k=10,score_threshold=0.6)"
   ]
  },
  {
   "cell_type": "markdown",
   "id": "aa444e8f-fcdf-44a7-83e2-77356f602331",
   "metadata": {},
   "source": [
    "## Similarity search that returns relevance scores with the documents (currently same as distance)"
   ]
  },
  {
   "cell_type": "code",
   "execution_count": 9,
   "id": "588087e5-ef68-4024-a5da-893cb3a26001",
   "metadata": {},
   "outputs": [
    {
     "data": {
      "text/plain": [
       "[(Document(page_content='LangChain was launched in October 2022 as an open source project by Harrison Chase, while working at machine learning startup Robust Intelligence.', metadata={'id': 'documents:l4oza7p9rvv9v68o0ap4'}),\n",
       "  0.707384991228603),\n",
       " (Document(page_content='In October 2023 LangChain introduced LangServe, a deployment tool designed to facilitate the transition from LCEL (LangChain Expression Language) prototypes to production-ready applications.', metadata={'id': 'documents:6bnpp6db3hlq98j21sbi'}),\n",
       "  0.680691705615241),\n",
       " (Document(page_content='LangChain is a framework designed to simplify the creation of applications using large language models (LLMs).', metadata={'id': 'documents:6yeintfk2zn7rk7dnk3w'}),\n",
       "  0.6542964797390185),\n",
       " (Document(page_content=\"As a language model integration framework, LangChain's use-cases largely overlap with those of language models in general, including document analysis and summarization, chatbots, and code analysis.\", metadata={'id': 'documents:70kd6k5pemouv9w6uj5s'}),\n",
       "  0.609428197794045)]"
      ]
     },
     "execution_count": 9,
     "metadata": {},
     "output_type": "execute_result"
    }
   ],
   "source": [
    "await sdb.asimilarity_search_with_relevance_scores(\"What is Langchain?\",score_threshold=0.5)"
   ]
  }
 ],
 "metadata": {
  "kernelspec": {
   "display_name": "Python 3 (ipykernel)",
   "language": "python",
   "name": "python3"
  },
  "language_info": {
   "codemirror_mode": {
    "name": "ipython",
    "version": 3
   },
   "file_extension": ".py",
   "mimetype": "text/x-python",
   "name": "python",
   "nbconvert_exporter": "python",
   "pygments_lexer": "ipython3",
   "version": "3.10.12"
  }
 },
 "nbformat": 4,
 "nbformat_minor": 5
}
